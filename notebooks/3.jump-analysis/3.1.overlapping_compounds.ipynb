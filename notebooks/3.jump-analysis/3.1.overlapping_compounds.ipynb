{
    "cells": [
        {
            "cell_type": "markdown",
            "metadata": {},
            "source": [
                "# Finding overlapping compounds\n",
                "\n",
                "This notebook aims to identify overlapping compounds present in both the `cell_injury` and `JUMP` datasets. These overlapping compounds will be used for subsetting the `JUMP` dataset, which we'll consider as the ground truth for subsequent analyses.\n",
                "\n",
                "## Approach\n",
                "1. **Identifying Overlapping Compounds**: We compare the compounds present in both datasets to identify the overlapping ones.\n",
                "2. **Subsetting the JUMP Dataset**: Once the overlapping compounds are identified, we subset the `JUMP` dataset to include only those compounds, forming our ground truth dataset.\n",
                "3. **Save dataset**: The dataset will be saved in the `./results/3.jump_analysis`\n",
                "4. **Align Features**: Finding Cell Profiler features that are shared between JUMP and Cell Injury data\n",
                "5. **Apply to model and evaluate**: Apply to trained shuffled and not shuffled model and evaluate \n"
            ]
        },
        {
            "cell_type": "code",
            "execution_count": 23,
            "metadata": {},
            "outputs": [],
            "source": [
                "import sys\n",
                "import json\n",
                "import pathlib\n",
                "import pandas as pd\n",
                "\n",
                "import joblib\n",
                "from pycytominer.cyto_utils import infer_cp_features\n",
                "\n",
                "sys.path.append(\"../../\")  # noqa"
            ]
        },
        {
            "cell_type": "code",
            "execution_count": 24,
            "metadata": {},
            "outputs": [],
            "source": [
                "# setting seed =\n",
                "seed = 0\n",
                "\n",
                "# setting paths\n",
                "data_path = pathlib.Path(\"../../data\").resolve(strict=True)\n",
                "jump_data_path = (data_path / \"JUMP_data\").resolve(strict=True)\n",
                "results_dir_path = pathlib.Path(\"../../results\").resolve(strict=True)\n",
                "data_split_dir = (results_dir_path / \"1.data_splits\").resolve(strict=True)\n",
                "\n",
                "# datasets paths\n",
                "cell_injury_metadata_path = (\n",
                "    data_split_dir / \"cell_injury_metadata_after_holdout.csv.gz\"\n",
                ").resolve(strict=True)\n",
                "jump_data_path = (\n",
                "    data_path / \"JUMP_data/JUMP_aligned_all_plates_normalized_negcon.csv.gz\"\n",
                ").resolve(strict=True)\n",
                "model_path = (results_dir_path / \"2.modeling/multi_class_model.joblib\").resolve(\n",
                "    strict=True\n",
                ")\n",
                "shuffled_model_path = (\n",
                "    results_dir_path / \"2.modeling/shuffled_multi_class_model.joblib\"\n",
                ").resolve(strict=True)\n",
                "feature_col_names = (data_split_dir / \"feature_cols.json\").resolve(strict=True)"
            ]
        },
        {
            "cell_type": "code",
            "execution_count": 25,
            "metadata": {},
            "outputs": [],
            "source": [
                "# loading in the data\n",
                "jump_df = pd.read_csv(jump_data_path)\n",
                "cell_injury_df = pd.read_csv(cell_injury_metadata_path)\n",
                "\n",
                "# loading json file containing selected feature names\n",
                "with open(feature_col_names, mode=\"r\") as infile:\n",
                "    cell_injury_cp_feature_cols = json.load(infile)"
            ]
        },
        {
            "cell_type": "markdown",
            "metadata": {},
            "source": [
                "## Identifying Overlapping Compounds"
            ]
        },
        {
            "cell_type": "markdown",
            "metadata": {},
            "source": [
                "Here, we used the International Chemical Identifier (InChI) to identify chemicals shared between the JUMP dataset and the Cell Injury dataset."
            ]
        },
        {
            "cell_type": "code",
            "execution_count": null,
            "metadata": {},
            "outputs": [],
            "source": [
                "# get all InChI keys\n",
                "cell_injury_InChI_keys = cell_injury_df[\"Compound InChIKey\"].tolist()\n",
                "jump_InChI_keys = jump_df[\"Metadata_InChIKey\"].tolist()\n",
                "\n",
                "# identify common InChI Keys\n",
                "common_compounds_inchikey = list(\n",
                "    set(cell_injury_InChI_keys).intersection(jump_InChI_keys)\n",
                ")\n",
                "\n",
                "# identify the compounds\n",
                "overlapping_compounds_df = cell_injury_df.loc[\n",
                "    cell_injury_df[\"Compound InChIKey\"].isin(common_compounds_inchikey)\n",
                "]\n",
                "unique_compound_names = overlapping_compounds_df[\"Compound Name\"].unique().tolist()\n",
                "print(\"Identified overlapping compounds:\", \", \".join(unique_compound_names))\n",
                "\n",
                "# now create a dataframe where it contains\n",
                "overlapping_compounds_df = (\n",
                "    overlapping_compounds_df[\n",
                "        [\"injury_code\", \"injury_type\", \"Compound Name\", \"Compound InChIKey\"]\n",
                "    ]\n",
                "    .drop_duplicates()\n",
                "    .reset_index(drop=True)\n",
                ")\n",
                "overlapping_compounds_df"
            ]
        },
        {
            "cell_type": "markdown",
            "metadata": {},
            "source": [
                "Once the common compounds and their associated cell injury types are identified, the next step involves filtering out the JUMP dataset to select only wells that possess the common InChI keys."
            ]
        },
        {
            "cell_type": "code",
            "execution_count": null,
            "metadata": {},
            "outputs": [],
            "source": [
                "overlapping_jump_df = jump_df.loc[\n",
                "    jump_df[\"Metadata_InChIKey\"].isin(common_compounds_inchikey)\n",
                "]\n",
                "\n",
                "# agument filtered JUMP data with labels\n",
                "overlapping_jump_df = pd.merge(\n",
                "    overlapping_jump_df,\n",
                "    overlapping_compounds_df,\n",
                "    left_on=\"Metadata_InChIKey\",\n",
                "    right_on=\"Compound InChIKey\",\n",
                ")\n",
                "\n",
                "print(\"shape: \", overlapping_jump_df.shape)\n",
                "overlapping_jump_df.head()"
            ]
        },
        {
            "cell_type": "code",
            "execution_count": null,
            "metadata": {},
            "outputs": [],
            "source": [
                "# count number of wells and agument with injury_code injury_yype and compound name\n",
                "well_counts_df = (\n",
                "    overlapping_jump_df.groupby(\"Metadata_InChIKey\")\n",
                "    .size()\n",
                "    .to_frame()\n",
                "    .reset_index()\n",
                "    .merge(\n",
                "        overlapping_compounds_df,\n",
                "        left_on=\"Metadata_InChIKey\",\n",
                "        right_on=\"Compound InChIKey\",\n",
                "    )\n",
                "    .drop(columns=[\"Compound InChIKey\"])\n",
                ")\n",
                "\n",
                "# update columns\n",
                "well_counts_df.columns = [\n",
                "    \"Metadata_InChIKey\",\n",
                "    \"n_wells\",\n",
                "    \"injury_code\",\n",
                "    \"injury_type\",\n",
                "    \"compund_name\",\n",
                "]\n",
                "well_counts_df"
            ]
        },
        {
            "cell_type": "code",
            "execution_count": null,
            "metadata": {},
            "outputs": [],
            "source": [
                "# now lets look at the amount of wells have treatments and controls per plate\n",
                "n_well_treatments = {}\n",
                "for plate, df in overlapping_jump_df.groupby(\"Metadata_Plate\"):\n",
                "    treatment_counts = {}\n",
                "    for treatment, df2 in df.groupby(\"Metadata_InChIKey\"):\n",
                "        counts = df2.shape[0]\n",
                "        treatment_counts[df2[\"Compound Name\"].unique()[0]] = counts\n",
                "\n",
                "    n_well_treatments[plate] = treatment_counts\n",
                "\n",
                "# looking treatment distribution across each plate\n",
                "plate_treatments = (\n",
                "    pd.DataFrame.from_dict(n_well_treatments, orient=\"columns\")\n",
                "    .T[[\"DMSO\", \"Colchicine\", \"Menadione\", \"Cycloheximide\"]]\n",
                "    .fillna(0)\n",
                "    .astype(int)\n",
                "    .reset_index()\n",
                ")\n",
                "plate_treatments.columns = [\n",
                "    \"plate_id\",\n",
                "    \"DMSO\",\n",
                "    \"Colchicine\",\n",
                "    \"Menadione\",\n",
                "    \"Cycloheximide\",\n",
                "]\n",
                "plate_treatments"
            ]
        },
        {
            "cell_type": "code",
            "execution_count": null,
            "metadata": {},
            "outputs": [],
            "source": [
                "# save the dataset\n",
                "overlapping_jump_df.to_csv(\n",
                "    \"overlapping_jump_data.csv.gz\", compression=\"gzip\", index=False\n",
                ")"
            ]
        },
        {
            "cell_type": "markdown",
            "metadata": {},
            "source": [
                "## Applying to Pre-trained model "
            ]
        },
        {
            "cell_type": "markdown",
            "metadata": {},
            "source": [
                "Before applying the pretrained model, we must create a downsampled version of the dataset. We saw that there are 3044 wells treated with DMSO, we decided to downsample the DMSO wells. However, instead of randomly selecting DMSO wells, we choose to randomly select only 2 wells per plate. Given that we are working with 24 plates, this approach yields a total of 48 wells. By doing so, we minimize the impact of plate-based variability.\n"
            ]
        },
        {
            "cell_type": "code",
            "execution_count": null,
            "metadata": {},
            "outputs": [],
            "source": [
                "# select only DMSO wells\n",
                "dmso_wells_df = overlapping_jump_df.loc[overlapping_jump_df[\"Compound Name\"] == \"DMSO\"]\n",
                "\n",
                "dmso_wells_per_plate = []\n",
                "for plate, df in dmso_wells_df.groupby(\"Metadata_Plate\"):\n",
                "    dmso_df = df.sample(n=2, random_state=seed)\n",
                "    dmso_wells_per_plate.append(dmso_df)\n",
                "\n",
                "dmso_wells_df = pd.concat(dmso_wells_per_plate)\n",
                "\n",
                "# now concat balanced DMSO wells with original dataset\n",
                "overlapping_jump_df = overlapping_jump_df.loc[\n",
                "    overlapping_jump_df[\"Compound Name\"] != \"DMSO\"\n",
                "]\n",
                "overlapping_jump_df = pd.concat([dmso_wells_df, overlapping_jump_df])\n",
                "\n",
                "print(\"DMSO downsampled data:\", overlapping_jump_df.shape)\n",
                "overlapping_jump_df.head()"
            ]
        },
        {
            "cell_type": "code",
            "execution_count": null,
            "metadata": {},
            "outputs": [],
            "source": [
                "# now lets look at the amount of wells have treatments and controls per plate\n",
                "n_well_treatments = {}\n",
                "for plate, df in overlapping_jump_df.groupby(\"Metadata_Plate\"):\n",
                "    treatment_counts = {}\n",
                "    for treatment, df2 in df.groupby(\"Metadata_InChIKey\"):\n",
                "        counts = df2.shape[0]\n",
                "        treatment_counts[df2[\"Compound Name\"].unique()[0]] = counts\n",
                "\n",
                "    n_well_treatments[plate] = treatment_counts\n",
                "\n",
                "# looking treatment distribution across each plate\n",
                "plate_treatments = (\n",
                "    pd.DataFrame.from_dict(n_well_treatments, orient=\"columns\")\n",
                "    .T[[\"DMSO\", \"Colchicine\", \"Menadione\", \"Cycloheximide\"]]\n",
                "    .fillna(0)\n",
                "    .astype(int)\n",
                "    .reset_index()\n",
                ")\n",
                "plate_treatments.columns = [\n",
                "    \"plate_id\",\n",
                "    \"DMSO\",\n",
                "    \"Colchicine\",\n",
                "    \"Menadione\",\n",
                "    \"Cycloheximide\",\n",
                "]\n",
                "plate_treatments"
            ]
        },
        {
            "cell_type": "markdown",
            "metadata": {},
            "source": [
                "Now that the dataset has been downsampled, next we need to find the common features that are shared between the cell injury dataset and JUMP"
            ]
        },
        {
            "cell_type": "code",
            "execution_count": null,
            "metadata": {},
            "outputs": [],
            "source": [
                "# get compartments\n",
                "metadata_prefix = \"Metadata_\"\n",
                "compartments = list(\n",
                "    set(\n",
                "        [\n",
                "            feature_name.split(\"_\")[0]\n",
                "            for feature_name in jump_df.columns.tolist()\n",
                "            if not feature_name.startswith(\"Metadata_\")\n",
                "        ]\n",
                "    )\n",
                ")\n",
                "\n",
                "# find CP features in JUMP dataset\n",
                "jump_cp_features = infer_cp_features(jump_df, compartments=compartments)\n",
                "meta_features = infer_cp_features(jump_df, compartments=compartments, metadata=True)\n",
                "\n",
                "# display number of features of both profiles\n",
                "print(\"Number of Metadata Features:\", len(meta_features))\n",
                "print(\n",
                "    \"Number of CP features that cell injury has\",\n",
                "    len(cell_injury_cp_feature_cols[\"feature_cols\"]),\n",
                ")\n",
                "print(\"Number of CP features that JUMP has:\", len(jump_cp_features))"
            ]
        },
        {
            "cell_type": "code",
            "execution_count": null,
            "metadata": {},
            "outputs": [],
            "source": [
                "# spliting the data into X and y\n",
                "cp_features = infer_cp_features(overlapping_jump_df)"
            ]
        },
        {
            "cell_type": "code",
            "execution_count": null,
            "metadata": {},
            "outputs": [],
            "source": [
                "model = joblib.load(model_path)\n",
                "shuffled_model = joblib.load(shuffled_model_path)"
            ]
        },
        {
            "cell_type": "code",
            "execution_count": null,
            "metadata": {},
            "outputs": [],
            "source": [
                "# applying data"
            ]
        }
    ],
    "metadata": {
        "kernelspec": {
            "display_name": "cell-injury",
            "language": "python",
            "name": "python3"
        },
        "language_info": {
            "codemirror_mode": {
                "name": "ipython",
                "version": 3
            },
            "file_extension": ".py",
            "mimetype": "text/x-python",
            "name": "python",
            "nbconvert_exporter": "python",
            "pygments_lexer": "ipython3",
            "version": "3.11.8"
        }
    },
    "nbformat": 4,
    "nbformat_minor": 2
}
