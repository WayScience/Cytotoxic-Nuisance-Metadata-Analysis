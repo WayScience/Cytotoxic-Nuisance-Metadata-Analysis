{
    "cells": [
        {
            "cell_type": "markdown",
            "metadata": {},
            "source": [
                "# Finding overlapping compounds\n",
                "\n",
                "This notebook aims to identify overlapping compounds present in both the `cell_injury` and `JUMP` datasets. These overlapping compounds will be used for subsetting the `JUMP` dataset, which we'll consider as the ground truth for subsequent analyses.\n",
                "\n",
                "## Approach\n",
                "1. **Identifying Overlapping Compounds**: We compare the compounds present in both datasets to identify the overlapping ones.\n",
                "2. **Subsetting the JUMP Dataset**: Once the overlapping compounds are identified, we subset the `JUMP` dataset to include only those compounds, forming our ground truth dataset.\n",
                "3. **Save dataset**: The dataset will be saved in the `./results/3.jump_analysis`\n"
            ]
        },
        {
            "cell_type": "code",
            "execution_count": 1,
            "metadata": {},
            "outputs": [],
            "source": [
                "import pathlib\n",
                "import pandas as pd"
            ]
        },
        {
            "cell_type": "code",
            "execution_count": 4,
            "metadata": {},
            "outputs": [
                {
                    "name": "stderr",
                    "output_type": "stream",
                    "text": [
                        "/tmp/ipykernel_342403/3358820507.py:2: DtypeWarning: Columns (6,7,5800,5801,5802,5804) have mixed types. Specify dtype option on import or set low_memory=False.\n",
                        "  df = pd.read_csv(jump_data_path)\n"
                    ]
                }
            ],
            "source": [
                "jump_data_path = pathlib.Path(\n",
                "    \"../../data/JUMP_data/JUMP_all_plates_normalized_negcon.csv.gz\"\n",
                ")\n",
                "df = pd.read_csv(jump_data_path)"
            ]
        },
        {
            "cell_type": "code",
            "execution_count": 6,
            "metadata": {},
            "outputs": [
                {
                    "data": {
                        "text/plain": [
                            "['Metadata_broad_sample',\n",
                            " 'Metadata_Plate',\n",
                            " 'Metadata_Well',\n",
                            " 'Metadata_gene',\n",
                            " 'Metadata_pert_type',\n",
                            " 'Metadata_control_type',\n",
                            " 'Metadata_target_sequence',\n",
                            " 'Metadata_negcon_control_type',\n",
                            " 'Metadata_solvent',\n",
                            " 'Metadata_InChIKey',\n",
                            " 'Metadata_pert_iname',\n",
                            " 'Metadata_pubchem_cid',\n",
                            " 'Metadata_smiles']"
                        ]
                    },
                    "execution_count": 6,
                    "metadata": {},
                    "output_type": "execute_result"
                }
            ],
            "source": [
                "[name for name in df.columns.tolist() if name.startswith(\"Metadata_\")]"
            ]
        },
        {
            "cell_type": "code",
            "execution_count": 15,
            "metadata": {},
            "outputs": [
                {
                    "data": {
                        "text/plain": [
                            "array([       nan, 9.8839e+06, 6.7900e+02, 2.1620e+03, 3.6060e+03,\n",
                            "       9.4175e+04, 4.6189e+07, 6.8844e+04, 2.4826e+07, 5.9397e+07,\n",
                            "       1.1315e+07, 3.2950e+03, 9.8882e+06, 4.8175e+05, 1.0297e+07,\n",
                            "       9.9573e+06, 1.1844e+07, 5.3276e+04, 5.1228e+05, 5.7430e+03,\n",
                            "       1.4000e+03, 7.2837e+07, 5.9174e+07, 1.3657e+06, 1.6154e+07,\n",
                            "       5.3277e+06, 2.5110e+07, 6.5724e+05, 8.3163e+05, 4.0370e+03,\n",
                            "       4.4130e+07, 1.1637e+07, 1.3280e+06, 4.4483e+07, 1.0963e+06,\n",
                            "       2.4905e+07, 2.4800e+07, 5.2824e+06, 2.3662e+07, 4.7879e+06,\n",
                            "       3.4060e+03, 1.0811e+05, 6.5866e+04, 4.3076e+06, 4.6742e+07,\n",
                            "       4.6886e+07, 1.2618e+06, 4.4250e+07, 1.1180e+07, 1.1351e+07,\n",
                            "       1.0027e+07, 4.4621e+07, 5.3328e+07, 9.9385e+06, 1.3252e+05,\n",
                            "       1.0809e+05, 5.7522e+07, 2.4827e+07, 5.7022e+06, 1.4749e+06,\n",
                            "       1.2035e+04, 3.0041e+06, 1.7270e+03, 2.6209e+05, 2.1200e+03,\n",
                            "       2.5227e+07, 5.3112e+06, 1.7754e+07, 6.9147e+06, 2.1610e+03,\n",
                            "       9.8010e+06, 1.6655e+07, 1.6231e+04, 5.7343e+07, 1.5117e+05,\n",
                            "       5.2680e+03, 2.6248e+04, 3.4880e+03, 1.1806e+07, 1.6040e+07,\n",
                            "       5.5720e+03, 9.8118e+06, 1.1443e+07, 5.3110e+06, 4.6843e+07,\n",
                            "       2.8006e+06, 5.7541e+06, 4.6191e+07, 7.4397e+05, 5.3111e+06,\n",
                            "       6.5663e+04, 2.2650e+03, 1.2193e+05, 1.1364e+07, 7.2199e+07,\n",
                            "       4.6217e+07, 4.4720e+03, 2.0892e+05, 1.3711e+04, 1.2901e+08,\n",
                            "       3.1820e+03, 4.4107e+05, 6.5490e+04, 5.3420e+03, 6.0168e+07,\n",
                            "       1.0775e+05, 2.9211e+06, 2.4660e+03, 5.2820e+06, 2.7236e+06,\n",
                            "       7.1601e+07, 4.9822e+07, 1.4820e+05, 1.7802e+05, 1.0183e+08,\n",
                            "       1.4574e+05, 3.0866e+06, 5.7120e+03, 7.1572e+07, 3.7908e+05,\n",
                            "       5.3358e+07, 5.5330e+03, 7.4663e+04, 3.0740e+03, 3.3330e+03,\n",
                            "       1.1524e+05, 4.5621e+05, 9.8396e+06, 5.2520e+03, 5.7524e+07,\n",
                            "       1.2215e+05, 6.7378e+07, 3.6710e+03, 1.1248e+07, 5.3199e+06,\n",
                            "       5.6650e+07, 9.4440e+03, 6.5738e+05, 4.9831e+07, 3.5200e+03,\n",
                            "       3.2300e+02, 5.7300e+03, 1.9783e+07, 6.0577e+06, 6.0753e+04,\n",
                            "       5.3624e+06, 7.2552e+07, 5.9610e+03, 4.7130e+03, 3.7175e+04,\n",
                            "       9.1200e+02, 5.6682e+07, 4.4940e+03, 5.4760e+07, 2.2486e+05,\n",
                            "       1.1153e+07, 1.5954e+07, 4.4130e+03, 4.9848e+07, 1.9890e+03,\n",
                            "       5.4575e+07, 1.1305e+07, 9.8749e+06, 7.2716e+07, 2.7290e+06,\n",
                            "       1.1837e+07, 3.8341e+05, 9.5700e+02, 7.1227e+07, 6.3246e+06,\n",
                            "       1.0114e+07, 6.0138e+07, 1.4985e+04, 1.2041e+04, 4.8150e+03,\n",
                            "       2.4780e+07, 4.8780e+03, 5.1148e+07, 4.6862e+07, 5.5230e+06,\n",
                            "       8.7390e+03, 5.2784e+06, 3.8990e+03, 6.4455e+06, 4.4237e+07,\n",
                            "       5.8438e+07, 6.0182e+07, 5.2804e+06, 6.6049e+06, 2.5127e+07,\n",
                            "       4.6927e+07, 5.2817e+06, 3.2260e+03, 7.1272e+07, 6.1970e+03,\n",
                            "       4.3930e+05, 6.1670e+03, 4.4946e+05, 1.1285e+07, 2.4753e+07,\n",
                            "       2.1435e+05, 1.1668e+07, 1.3018e+07, 6.7112e+06, 3.0785e+06,\n",
                            "       1.2234e+05, 1.7616e+05, 2.3510e+03, 2.4801e+07, 4.7810e+03,\n",
                            "       9.9335e+06, 3.7630e+03, 2.7331e+06, 1.1599e+07, 1.6740e+07,\n",
                            "       2.2840e+03, 1.0129e+08, 3.3710e+03, 1.1655e+07, 2.5272e+07,\n",
                            "       5.4445e+04, 9.8393e+06, 4.4124e+07, 1.6135e+07, 1.0430e+07,\n",
                            "       6.9187e+06, 4.0550e+03, 9.9529e+06, 4.1140e+03, 5.2844e+06,\n",
                            "       5.3514e+06, 1.8937e+06, 4.6220e+03, 1.6723e+07, 6.7107e+06,\n",
                            "       5.2822e+06, 3.7463e+04, 1.1507e+06, 2.5360e+05, 5.6842e+05,\n",
                            "       2.4856e+07, 7.8162e+07, 5.3291e+06, 3.0751e+04, 5.7379e+07,\n",
                            "       1.2219e+08, 2.8503e+05, 7.0987e+06, 5.3521e+06, 6.5030e+03,\n",
                            "       5.4454e+04, 5.7220e+03, 5.7020e+06, 1.1821e+08, 3.0760e+03,\n",
                            "       4.7640e+03, 4.4880e+03, 2.4799e+07, 5.2938e+07, 7.2016e+04,\n",
                            "       3.2725e+06, 5.0870e+03, 6.0809e+04, 5.4010e+03, 9.4200e+02,\n",
                            "       2.1632e+04, 1.1635e+07, 4.4970e+03, 6.5351e+04, 2.3725e+07,\n",
                            "       1.0223e+07, 2.6400e+02, 4.3969e+05, 4.4220e+03, 8.2320e+04,\n",
                            "       9.8589e+06, 6.9185e+06, 7.4050e+03, 4.4630e+03, 5.5460e+03,\n",
                            "       1.1168e+07, 2.9070e+03, 1.0368e+07, 7.1461e+07, 2.7540e+03,\n",
                            "       2.3649e+07, 2.5109e+07, 4.9140e+03, 4.1890e+03, 3.9550e+03,\n",
                            "       6.0795e+04])"
                        ]
                    },
                    "execution_count": 15,
                    "metadata": {},
                    "output_type": "execute_result"
                }
            ],
            "source": [
                "df.Metadata_pubchem_cid.unique()"
            ]
        },
        {
            "cell_type": "code",
            "execution_count": null,
            "metadata": {},
            "outputs": [],
            "source": []
        }
    ],
    "metadata": {
        "kernelspec": {
            "display_name": "cell-injury",
            "language": "python",
            "name": "python3"
        },
        "language_info": {
            "codemirror_mode": {
                "name": "ipython",
                "version": 3
            },
            "file_extension": ".py",
            "mimetype": "text/x-python",
            "name": "python",
            "nbconvert_exporter": "python",
            "pygments_lexer": "ipython3",
            "version": "3.11.8"
        }
    },
    "nbformat": 4,
    "nbformat_minor": 2
}
