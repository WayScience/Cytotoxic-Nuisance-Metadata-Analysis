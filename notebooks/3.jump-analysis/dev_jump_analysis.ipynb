{
    "cells": [
        {
            "cell_type": "code",
            "execution_count": 1,
            "metadata": {},
            "outputs": [],
            "source": [
                "import sys\n",
                "import pathlib\n",
                "\n",
                "\n",
                "# project module imports\n",
                "sys.path.append(\"../../\")  # noqa"
            ]
        },
        {
            "cell_type": "code",
            "execution_count": null,
            "metadata": {},
            "outputs": [],
            "source": [
                "# setting up paths and output paths\n",
                "results_dir = pathlib.Path(\"../../results\")\n",
                "data_split_dir = (results_dir / \"1.data_splits/\").resolve(strict=True)\n",
                "jump_data_dir = pathlib.Path(\"../../data/JUMP_data\").resolve(strict=True)\n",
                "modeling_dir = pathlib.Path(\"../../results/2.modeling\").resolve(strict=True)\n",
                "\n",
                "# JUMP data files\n",
                "jump_data_path = (jump_data_dir / \"JUMP_all_plates_normalized_negcon.csv.gz\").resolve(\n",
                "    strict=True\n",
                ")\n",
                "\n",
                "# model paths\n",
                "multi_class_model_path = (modeling_dir / \"multi_class_model.joblib\").resolve(\n",
                "    strict=True\n",
                ")\n",
                "shuffled_multi_class_model_path = (\n",
                "    modeling_dir / \"shuffled_multi_class_model.joblib\"\n",
                ").resolve(strict=True)\n",
                "\n",
                "# overlapping feature space path\n",
                "(data_split_dir / \"overlap\")"
            ]
        }
    ],
    "metadata": {
        "kernelspec": {
            "display_name": "cell-injury",
            "language": "python",
            "name": "python3"
        },
        "language_info": {
            "codemirror_mode": {
                "name": "ipython",
                "version": 3
            },
            "file_extension": ".py",
            "mimetype": "text/x-python",
            "name": "python",
            "nbconvert_exporter": "python",
            "pygments_lexer": "ipython3",
            "version": "3.11.8"
        }
    },
    "nbformat": 4,
    "nbformat_minor": 2
}
