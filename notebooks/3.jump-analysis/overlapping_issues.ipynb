{
    "cells": [
        {
            "cell_type": "code",
            "execution_count": 5,
            "metadata": {},
            "outputs": [],
            "source": [
                "import sys\n",
                "import pandas as pd\n",
                "\n",
                "sys.path.append(\"../../\")\n",
                "from src import utils"
            ]
        },
        {
            "cell_type": "code",
            "execution_count": 3,
            "metadata": {},
            "outputs": [
                {
                    "name": "stderr",
                    "output_type": "stream",
                    "text": [
                        "/tmp/ipykernel_218900/2156442170.py:1: DtypeWarning: Columns (6,7,5800,5801,5802,5804) have mixed types. Specify dtype option on import or set low_memory=False.\n",
                        "  jump_df = pd.read_csv(\"../../data/JUMP_data/JUMP_all_plates_normalized_negcon.csv.gz\")\n",
                        "/tmp/ipykernel_218900/2156442170.py:2: DtypeWarning: Columns (9,21,29) have mixed types. Specify dtype option on import or set low_memory=False.\n",
                        "  cell_injury_fs = pd.read_csv(\"../../results/0.feature_selection/cell_injury_profile_fs.csv.gz\")\n"
                    ]
                }
            ],
            "source": [
                "jump_df = pd.read_csv(\"../../data/JUMP_data/JUMP_all_plates_normalized_negcon.csv.gz\")\n",
                "cell_injury_fs = pd.read_csv(\n",
                "    \"../../results/0.feature_selection/cell_injury_profile_fs.csv.gz\"\n",
                ")"
            ]
        },
        {
            "cell_type": "code",
            "execution_count": 6,
            "metadata": {},
            "outputs": [],
            "source": [
                "jump_meta, jump_feats = utils.split_meta_and_features(jump_df, metadata_tag=True)"
            ]
        },
        {
            "cell_type": "code",
            "execution_count": 9,
            "metadata": {},
            "outputs": [],
            "source": [
                "from pycytominer.cyto_utils import infer_cp_features"
            ]
        },
        {
            "cell_type": "code",
            "execution_count": 10,
            "metadata": {},
            "outputs": [],
            "source": [
                "feats = infer_cp_features(jump_df)"
            ]
        },
        {
            "cell_type": "code",
            "execution_count": 11,
            "metadata": {},
            "outputs": [
                {
                    "data": {
                        "text/plain": [
                            "5792"
                        ]
                    },
                    "execution_count": 11,
                    "metadata": {},
                    "output_type": "execute_result"
                }
            ],
            "source": [
                "len(feats)"
            ]
        },
        {
            "cell_type": "code",
            "execution_count": null,
            "metadata": {},
            "outputs": [],
            "source": []
        }
    ],
    "metadata": {
        "kernelspec": {
            "display_name": "cell-injury",
            "language": "python",
            "name": "python3"
        },
        "language_info": {
            "codemirror_mode": {
                "name": "ipython",
                "version": 3
            },
            "file_extension": ".py",
            "mimetype": "text/x-python",
            "name": "python",
            "nbconvert_exporter": "python",
            "pygments_lexer": "ipython3",
            "version": "3.11.8"
        }
    },
    "nbformat": 4,
    "nbformat_minor": 2
}
