{
    "cells": [
        {
            "cell_type": "markdown",
            "metadata": {},
            "source": [
                "# Downloading JUMP Pilot Dataset\n",
                "\n",
                "This notebook focuses on downloading the JUMP-CellPainting dataset. The pilot dataset comprises aggregate profiles at the well level, spanning 51 plates. These profiles have been normalized using the negative controls within each plate. We downloaded all 51 negative-controlled normalized aggregate profiles and concatenating them into a single dataset file. The JUMP dataset profile will be saved in the `./data/JUMP_data` directory."
            ]
        },
        {
            "cell_type": "code",
            "execution_count": 1,
            "metadata": {},
            "outputs": [],
            "source": [
                "import sys\n",
                "import json\n",
                "import pandas as pd\n",
                "\n",
                "sys.path.append(\"../../\")\n",
                "from src.utils import split_meta_and_features"
            ]
        },
        {
            "cell_type": "markdown",
            "metadata": {},
            "source": [
                "Reading the plate map to get all the Plate ID's "
            ]
        },
        {
            "cell_type": "code",
            "execution_count": 2,
            "metadata": {},
            "outputs": [
                {
                    "data": {
                        "text/html": [
                            "<div>\n",
                            "<style scoped>\n",
                            "    .dataframe tbody tr th:only-of-type {\n",
                            "        vertical-align: middle;\n",
                            "    }\n",
                            "\n",
                            "    .dataframe tbody tr th {\n",
                            "        vertical-align: top;\n",
                            "    }\n",
                            "\n",
                            "    .dataframe thead th {\n",
                            "        text-align: right;\n",
                            "    }\n",
                            "</style>\n",
                            "<table border=\"1\" class=\"dataframe\">\n",
                            "  <thead>\n",
                            "    <tr style=\"text-align: right;\">\n",
                            "      <th></th>\n",
                            "      <th>Assay_Plate_Barcode</th>\n",
                            "      <th>Plate_Map_Name</th>\n",
                            "    </tr>\n",
                            "  </thead>\n",
                            "  <tbody>\n",
                            "    <tr>\n",
                            "      <th>0</th>\n",
                            "      <td>BR00117006</td>\n",
                            "      <td>JUMP-Target-1_orf_platemap</td>\n",
                            "    </tr>\n",
                            "    <tr>\n",
                            "      <th>1</th>\n",
                            "      <td>BR00118049</td>\n",
                            "      <td>JUMP-Target-1_orf_platemap</td>\n",
                            "    </tr>\n",
                            "    <tr>\n",
                            "      <th>2</th>\n",
                            "      <td>BR00118050</td>\n",
                            "      <td>JUMP-Target-1_orf_platemap</td>\n",
                            "    </tr>\n",
                            "    <tr>\n",
                            "      <th>3</th>\n",
                            "      <td>BR00118039</td>\n",
                            "      <td>JUMP-Target-1_orf_platemap</td>\n",
                            "    </tr>\n",
                            "    <tr>\n",
                            "      <th>4</th>\n",
                            "      <td>BR00118040</td>\n",
                            "      <td>JUMP-Target-1_orf_platemap</td>\n",
                            "    </tr>\n",
                            "  </tbody>\n",
                            "</table>\n",
                            "</div>"
                        ],
                        "text/plain": [
                            "  Assay_Plate_Barcode              Plate_Map_Name\n",
                            "0          BR00117006  JUMP-Target-1_orf_platemap\n",
                            "1          BR00118049  JUMP-Target-1_orf_platemap\n",
                            "2          BR00118050  JUMP-Target-1_orf_platemap\n",
                            "3          BR00118039  JUMP-Target-1_orf_platemap\n",
                            "4          BR00118040  JUMP-Target-1_orf_platemap"
                        ]
                    },
                    "execution_count": 2,
                    "metadata": {},
                    "output_type": "execute_result"
                }
            ],
            "source": [
                "# loading plate map\n",
                "platemap_df = pd.read_csv(\"./barcode_platemap.csv\")\n",
                "platemap_df.head()"
            ]
        },
        {
            "cell_type": "markdown",
            "metadata": {},
            "source": [
                "Next, we use the plate IDs to the URL in order to download the aggregated profiles. We use pandas to download and load each profile, and then concatenate them into a single dataframe. The merged dataframe serves as our main JUMP dataset."
            ]
        },
        {
            "cell_type": "code",
            "execution_count": 3,
            "metadata": {},
            "outputs": [],
            "source": [
                "# download all normalized aggregated profiles\n",
                "jump_df = []\n",
                "for plate_id in platemap_df[\"Assay_Plate_Barcode\"]:\n",
                "    url = f\"https://cellpainting-gallery.s3.amazonaws.com/cpg0000-jump-pilot/source_4/workspace/profiles/2020_11_04_CPJUMP1/{plate_id}/{plate_id}_normalized_negcon.csv.gz\"\n",
                "    df = pd.read_csv(url)\n",
                "    jump_df.append(df)\n",
                "\n",
                "# concat all downloaded concatenate all aggregate profiles\n",
                "jump_df = pd.concat(jump_df)\n",
                "\n",
                "# save concatenated df into ./data/JUMP_data folders\n",
                "jump_df.to_csv(\n",
                "    \"JUMP_all_plates_normalized_negcon.csv.gz\", index=False, compression=\"gzip\"\n",
                ")"
            ]
        },
        {
            "cell_type": "markdown",
            "metadata": {},
            "source": [
                "Here, we obtain information about the feature space by splitting both the meta and feature column names and storing them in a dictionary. This dictionary holds information about the feature space and will be utilized for downstream analysis when identifying shared features across different datasets, such as the Cell-injury dataset."
            ]
        },
        {
            "cell_type": "code",
            "execution_count": 4,
            "metadata": {},
            "outputs": [
                {
                    "name": "stdout",
                    "output_type": "stream",
                    "text": [
                        "Shape of Merged dataset (19498, 5805)\n",
                        "NUmber of plates 51\n",
                        "Number of meta features 13\n",
                        "Number of features 5792\n"
                    ]
                }
            ],
            "source": [
                "# saving feature space\n",
                "jump_meta, jump_feat = split_meta_and_features(jump_df, metadata_tag=True)\n",
                "\n",
                "# saving info of feature space\n",
                "jump_feature_space = {\n",
                "    \"name\": \"JUMP\",\n",
                "    \"n_plates\": len(jump_df[\"Metadata_Plate\"].unique()),\n",
                "    \"n_meta_features\": len(jump_meta),\n",
                "    \"n_features\": len(jump_feat),\n",
                "    \"meta_features\": jump_meta,\n",
                "    \"features\": jump_feat,\n",
                "}\n",
                "\n",
                "# save json file\n",
                "with open(\"jump_feature_space.json\", mode=\"w\") as f:\n",
                "    json.dump(jump_feature_space, f)\n",
                "\n",
                "# display\n",
                "print(\"Shape of Merged dataset\", jump_df.shape)\n",
                "print(\"NUmber of plates\", len(jump_df[\"Metadata_Plate\"].unique()))\n",
                "print(\"Number of meta features\", len(jump_meta))\n",
                "print(\"Number of features\", len(jump_feat))"
            ]
        }
    ],
    "metadata": {
        "kernelspec": {
            "display_name": "metadata-search",
            "language": "python",
            "name": "python3"
        },
        "language_info": {
            "codemirror_mode": {
                "name": "ipython",
                "version": 3
            },
            "file_extension": ".py",
            "mimetype": "text/x-python",
            "name": "python",
            "nbconvert_exporter": "python",
            "pygments_lexer": "ipython3",
            "version": "3.11.8"
        }
    },
    "nbformat": 4,
    "nbformat_minor": 2
}
