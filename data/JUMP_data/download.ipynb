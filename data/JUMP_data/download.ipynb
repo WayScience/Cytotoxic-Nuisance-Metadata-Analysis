{
    "cells": [
        {
            "cell_type": "code",
            "execution_count": 14,
            "metadata": {},
            "outputs": [],
            "source": [
                "import os\n",
                "import pathlib\n",
                "import requests\n",
                "import pandas as pd"
            ]
        },
        {
            "cell_type": "code",
            "execution_count": 6,
            "metadata": {},
            "outputs": [
                {
                    "data": {
                        "text/html": [
                            "<div>\n",
                            "<style scoped>\n",
                            "    .dataframe tbody tr th:only-of-type {\n",
                            "        vertical-align: middle;\n",
                            "    }\n",
                            "\n",
                            "    .dataframe tbody tr th {\n",
                            "        vertical-align: top;\n",
                            "    }\n",
                            "\n",
                            "    .dataframe thead th {\n",
                            "        text-align: right;\n",
                            "    }\n",
                            "</style>\n",
                            "<table border=\"1\" class=\"dataframe\">\n",
                            "  <thead>\n",
                            "    <tr style=\"text-align: right;\">\n",
                            "      <th></th>\n",
                            "      <th>Assay_Plate_Barcode</th>\n",
                            "      <th>Plate_Map_Name</th>\n",
                            "    </tr>\n",
                            "  </thead>\n",
                            "  <tbody>\n",
                            "    <tr>\n",
                            "      <th>0</th>\n",
                            "      <td>BR00117006</td>\n",
                            "      <td>JUMP-Target-1_orf_platemap</td>\n",
                            "    </tr>\n",
                            "    <tr>\n",
                            "      <th>1</th>\n",
                            "      <td>BR00118049</td>\n",
                            "      <td>JUMP-Target-1_orf_platemap</td>\n",
                            "    </tr>\n",
                            "    <tr>\n",
                            "      <th>2</th>\n",
                            "      <td>BR00118050</td>\n",
                            "      <td>JUMP-Target-1_orf_platemap</td>\n",
                            "    </tr>\n",
                            "    <tr>\n",
                            "      <th>3</th>\n",
                            "      <td>BR00118039</td>\n",
                            "      <td>JUMP-Target-1_orf_platemap</td>\n",
                            "    </tr>\n",
                            "    <tr>\n",
                            "      <th>4</th>\n",
                            "      <td>BR00118040</td>\n",
                            "      <td>JUMP-Target-1_orf_platemap</td>\n",
                            "    </tr>\n",
                            "  </tbody>\n",
                            "</table>\n",
                            "</div>"
                        ],
                        "text/plain": [
                            "  Assay_Plate_Barcode              Plate_Map_Name\n",
                            "0          BR00117006  JUMP-Target-1_orf_platemap\n",
                            "1          BR00118049  JUMP-Target-1_orf_platemap\n",
                            "2          BR00118050  JUMP-Target-1_orf_platemap\n",
                            "3          BR00118039  JUMP-Target-1_orf_platemap\n",
                            "4          BR00118040  JUMP-Target-1_orf_platemap"
                        ]
                    },
                    "execution_count": 6,
                    "metadata": {},
                    "output_type": "execute_result"
                }
            ],
            "source": [
                "# read\n",
                "platemap_df = pd.read_csv(\"./barcode_platemap.csv\")\n",
                "platemap_df.head()"
            ]
        },
        {
            "cell_type": "code",
            "execution_count": 14,
            "metadata": {},
            "outputs": [
                {
                    "name": "stdout",
                    "output_type": "stream",
                    "text": [
                        "https://cellpainting-gallery.s3.amazonaws.com/cpg0000-jump-pilot/source_4/workspace/profiles/2020_11_04_CPJUMP1/BR00117006/BR00117006_normalized_negcon.csv.gz\n",
                        "https://cellpainting-gallery.s3.amazonaws.com/cpg0000-jump-pilot/source_4/workspace/profiles/2020_11_04_CPJUMP1/BR00118049/BR00118049_normalized_negcon.csv.gz\n",
                        "https://cellpainting-gallery.s3.amazonaws.com/cpg0000-jump-pilot/source_4/workspace/profiles/2020_11_04_CPJUMP1/BR00118050/BR00118050_normalized_negcon.csv.gz\n",
                        "https://cellpainting-gallery.s3.amazonaws.com/cpg0000-jump-pilot/source_4/workspace/profiles/2020_11_04_CPJUMP1/BR00118039/BR00118039_normalized_negcon.csv.gz\n",
                        "https://cellpainting-gallery.s3.amazonaws.com/cpg0000-jump-pilot/source_4/workspace/profiles/2020_11_04_CPJUMP1/BR00118040/BR00118040_normalized_negcon.csv.gz\n",
                        "https://cellpainting-gallery.s3.amazonaws.com/cpg0000-jump-pilot/source_4/workspace/profiles/2020_11_04_CPJUMP1/BR00117020/BR00117020_normalized_negcon.csv.gz\n",
                        "https://cellpainting-gallery.s3.amazonaws.com/cpg0000-jump-pilot/source_4/workspace/profiles/2020_11_04_CPJUMP1/BR00117021/BR00117021_normalized_negcon.csv.gz\n",
                        "https://cellpainting-gallery.s3.amazonaws.com/cpg0000-jump-pilot/source_4/workspace/profiles/2020_11_04_CPJUMP1/BR00117022/BR00117022_normalized_negcon.csv.gz\n",
                        "https://cellpainting-gallery.s3.amazonaws.com/cpg0000-jump-pilot/source_4/workspace/profiles/2020_11_04_CPJUMP1/BR00117023/BR00117023_normalized_negcon.csv.gz\n",
                        "https://cellpainting-gallery.s3.amazonaws.com/cpg0000-jump-pilot/source_4/workspace/profiles/2020_11_04_CPJUMP1/BR00118041/BR00118041_normalized_negcon.csv.gz\n",
                        "https://cellpainting-gallery.s3.amazonaws.com/cpg0000-jump-pilot/source_4/workspace/profiles/2020_11_04_CPJUMP1/BR00118042/BR00118042_normalized_negcon.csv.gz\n",
                        "https://cellpainting-gallery.s3.amazonaws.com/cpg0000-jump-pilot/source_4/workspace/profiles/2020_11_04_CPJUMP1/BR00118043/BR00118043_normalized_negcon.csv.gz\n",
                        "https://cellpainting-gallery.s3.amazonaws.com/cpg0000-jump-pilot/source_4/workspace/profiles/2020_11_04_CPJUMP1/BR00118044/BR00118044_normalized_negcon.csv.gz\n",
                        "https://cellpainting-gallery.s3.amazonaws.com/cpg0000-jump-pilot/source_4/workspace/profiles/2020_11_04_CPJUMP1/BR00118045/BR00118045_normalized_negcon.csv.gz\n",
                        "https://cellpainting-gallery.s3.amazonaws.com/cpg0000-jump-pilot/source_4/workspace/profiles/2020_11_04_CPJUMP1/BR00118046/BR00118046_normalized_negcon.csv.gz\n",
                        "https://cellpainting-gallery.s3.amazonaws.com/cpg0000-jump-pilot/source_4/workspace/profiles/2020_11_04_CPJUMP1/BR00118047/BR00118047_normalized_negcon.csv.gz\n",
                        "https://cellpainting-gallery.s3.amazonaws.com/cpg0000-jump-pilot/source_4/workspace/profiles/2020_11_04_CPJUMP1/BR00118048/BR00118048_normalized_negcon.csv.gz\n",
                        "https://cellpainting-gallery.s3.amazonaws.com/cpg0000-jump-pilot/source_4/workspace/profiles/2020_11_04_CPJUMP1/BR00117003/BR00117003_normalized_negcon.csv.gz\n",
                        "https://cellpainting-gallery.s3.amazonaws.com/cpg0000-jump-pilot/source_4/workspace/profiles/2020_11_04_CPJUMP1/BR00117004/BR00117004_normalized_negcon.csv.gz\n",
                        "https://cellpainting-gallery.s3.amazonaws.com/cpg0000-jump-pilot/source_4/workspace/profiles/2020_11_04_CPJUMP1/BR00117005/BR00117005_normalized_negcon.csv.gz\n",
                        "https://cellpainting-gallery.s3.amazonaws.com/cpg0000-jump-pilot/source_4/workspace/profiles/2020_11_04_CPJUMP1/BR00117000/BR00117000_normalized_negcon.csv.gz\n",
                        "https://cellpainting-gallery.s3.amazonaws.com/cpg0000-jump-pilot/source_4/workspace/profiles/2020_11_04_CPJUMP1/BR00117002/BR00117002_normalized_negcon.csv.gz\n",
                        "https://cellpainting-gallery.s3.amazonaws.com/cpg0000-jump-pilot/source_4/workspace/profiles/2020_11_04_CPJUMP1/BR00117001/BR00117001_normalized_negcon.csv.gz\n",
                        "https://cellpainting-gallery.s3.amazonaws.com/cpg0000-jump-pilot/source_4/workspace/profiles/2020_11_04_CPJUMP1/BR00116997/BR00116997_normalized_negcon.csv.gz\n",
                        "https://cellpainting-gallery.s3.amazonaws.com/cpg0000-jump-pilot/source_4/workspace/profiles/2020_11_04_CPJUMP1/BR00116998/BR00116998_normalized_negcon.csv.gz\n",
                        "https://cellpainting-gallery.s3.amazonaws.com/cpg0000-jump-pilot/source_4/workspace/profiles/2020_11_04_CPJUMP1/BR00116999/BR00116999_normalized_negcon.csv.gz\n",
                        "https://cellpainting-gallery.s3.amazonaws.com/cpg0000-jump-pilot/source_4/workspace/profiles/2020_11_04_CPJUMP1/BR00116996/BR00116996_normalized_negcon.csv.gz\n",
                        "https://cellpainting-gallery.s3.amazonaws.com/cpg0000-jump-pilot/source_4/workspace/profiles/2020_11_04_CPJUMP1/BR00116991/BR00116991_normalized_negcon.csv.gz\n",
                        "https://cellpainting-gallery.s3.amazonaws.com/cpg0000-jump-pilot/source_4/workspace/profiles/2020_11_04_CPJUMP1/BR00116992/BR00116992_normalized_negcon.csv.gz\n",
                        "https://cellpainting-gallery.s3.amazonaws.com/cpg0000-jump-pilot/source_4/workspace/profiles/2020_11_04_CPJUMP1/BR00116993/BR00116993_normalized_negcon.csv.gz\n",
                        "https://cellpainting-gallery.s3.amazonaws.com/cpg0000-jump-pilot/source_4/workspace/profiles/2020_11_04_CPJUMP1/BR00116994/BR00116994_normalized_negcon.csv.gz\n",
                        "https://cellpainting-gallery.s3.amazonaws.com/cpg0000-jump-pilot/source_4/workspace/profiles/2020_11_04_CPJUMP1/BR00116995/BR00116995_normalized_negcon.csv.gz\n",
                        "https://cellpainting-gallery.s3.amazonaws.com/cpg0000-jump-pilot/source_4/workspace/profiles/2020_11_04_CPJUMP1/BR00117024/BR00117024_normalized_negcon.csv.gz\n",
                        "https://cellpainting-gallery.s3.amazonaws.com/cpg0000-jump-pilot/source_4/workspace/profiles/2020_11_04_CPJUMP1/BR00117025/BR00117025_normalized_negcon.csv.gz\n",
                        "https://cellpainting-gallery.s3.amazonaws.com/cpg0000-jump-pilot/source_4/workspace/profiles/2020_11_04_CPJUMP1/BR00117026/BR00117026_normalized_negcon.csv.gz\n",
                        "https://cellpainting-gallery.s3.amazonaws.com/cpg0000-jump-pilot/source_4/workspace/profiles/2020_11_04_CPJUMP1/BR00117017/BR00117017_normalized_negcon.csv.gz\n",
                        "https://cellpainting-gallery.s3.amazonaws.com/cpg0000-jump-pilot/source_4/workspace/profiles/2020_11_04_CPJUMP1/BR00117019/BR00117019_normalized_negcon.csv.gz\n",
                        "https://cellpainting-gallery.s3.amazonaws.com/cpg0000-jump-pilot/source_4/workspace/profiles/2020_11_04_CPJUMP1/BR00117015/BR00117015_normalized_negcon.csv.gz\n",
                        "https://cellpainting-gallery.s3.amazonaws.com/cpg0000-jump-pilot/source_4/workspace/profiles/2020_11_04_CPJUMP1/BR00117016/BR00117016_normalized_negcon.csv.gz\n",
                        "https://cellpainting-gallery.s3.amazonaws.com/cpg0000-jump-pilot/source_4/workspace/profiles/2020_11_04_CPJUMP1/BR00117012/BR00117012_normalized_negcon.csv.gz\n",
                        "https://cellpainting-gallery.s3.amazonaws.com/cpg0000-jump-pilot/source_4/workspace/profiles/2020_11_04_CPJUMP1/BR00117013/BR00117013_normalized_negcon.csv.gz\n",
                        "https://cellpainting-gallery.s3.amazonaws.com/cpg0000-jump-pilot/source_4/workspace/profiles/2020_11_04_CPJUMP1/BR00117010/BR00117010_normalized_negcon.csv.gz\n",
                        "https://cellpainting-gallery.s3.amazonaws.com/cpg0000-jump-pilot/source_4/workspace/profiles/2020_11_04_CPJUMP1/BR00117011/BR00117011_normalized_negcon.csv.gz\n",
                        "https://cellpainting-gallery.s3.amazonaws.com/cpg0000-jump-pilot/source_4/workspace/profiles/2020_11_04_CPJUMP1/BR00117054/BR00117054_normalized_negcon.csv.gz\n",
                        "https://cellpainting-gallery.s3.amazonaws.com/cpg0000-jump-pilot/source_4/workspace/profiles/2020_11_04_CPJUMP1/BR00117055/BR00117055_normalized_negcon.csv.gz\n",
                        "https://cellpainting-gallery.s3.amazonaws.com/cpg0000-jump-pilot/source_4/workspace/profiles/2020_11_04_CPJUMP1/BR00117008/BR00117008_normalized_negcon.csv.gz\n",
                        "https://cellpainting-gallery.s3.amazonaws.com/cpg0000-jump-pilot/source_4/workspace/profiles/2020_11_04_CPJUMP1/BR00117009/BR00117009_normalized_negcon.csv.gz\n",
                        "https://cellpainting-gallery.s3.amazonaws.com/cpg0000-jump-pilot/source_4/workspace/profiles/2020_11_04_CPJUMP1/BR00117052/BR00117052_normalized_negcon.csv.gz\n",
                        "https://cellpainting-gallery.s3.amazonaws.com/cpg0000-jump-pilot/source_4/workspace/profiles/2020_11_04_CPJUMP1/BR00117053/BR00117053_normalized_negcon.csv.gz\n",
                        "https://cellpainting-gallery.s3.amazonaws.com/cpg0000-jump-pilot/source_4/workspace/profiles/2020_11_04_CPJUMP1/BR00117050/BR00117050_normalized_negcon.csv.gz\n",
                        "https://cellpainting-gallery.s3.amazonaws.com/cpg0000-jump-pilot/source_4/workspace/profiles/2020_11_04_CPJUMP1/BR00117051/BR00117051_normalized_negcon.csv.gz\n"
                    ]
                }
            ],
            "source": [
                "# download normalized data\n",
                "for plate_id in platemap_df[\"Assay_Plate_Barcode\"]:\n",
                "    url = f\"https://cellpainting-gallery.s3.amazonaws.com/cpg0000-jump-pilot/source_4/workspace/profiles/2020_11_04_CPJUMP1/{plate_id}/{plate_id}_normalized_negcon.csv.gz\"\n",
                "\n",
                "    # request data\n",
                "    with requests.get(url) as response:\n",
                "        response.raise_for_status()\n",
                "        save_path = pathlib.Path(f\"./{plate_id}_normalized_negcon.csv.gz\").resolve()\n",
                "\n",
                "        # save content\n",
                "        with open(save_path, mode=\"wb\") as f:\n",
                "            for chunk in response.iter_content(chunk_size=8192):\n",
                "                f.write(chunk)"
            ]
        },
        {
            "cell_type": "code",
            "execution_count": 15,
            "metadata": {},
            "outputs": [],
            "source": [
                "# after downloading all dataset, concat into a single dataframe\n",
                "data_files = list(pathlib.Path.cwd().glob(\"*.csv.gz\"))\n",
                "\n",
                "# create main df by concatenating all file\n",
                "main_df = pd.concat([pd.read_csv(file) for file in data_files])\n",
                "\n",
                "# remove single_dfs\n",
                "[os.remove(file) for file in data_files]\n",
                "\n",
                "# save concatenated df into ./data/JUMP_data folders\n",
                "main_df.to_csv(\"all_plates_normalized_negcon.csv.gz\", index=False, compression=\"gzip\")"
            ]
        }
    ],
    "metadata": {
        "kernelspec": {
            "display_name": "metadata-search",
            "language": "python",
            "name": "python3"
        },
        "language_info": {
            "codemirror_mode": {
                "name": "ipython",
                "version": 3
            },
            "file_extension": ".py",
            "mimetype": "text/x-python",
            "name": "python",
            "nbconvert_exporter": "python",
            "pygments_lexer": "ipython3",
            "version": "3.12.2"
        }
    },
    "nbformat": 4,
    "nbformat_minor": 2
}
