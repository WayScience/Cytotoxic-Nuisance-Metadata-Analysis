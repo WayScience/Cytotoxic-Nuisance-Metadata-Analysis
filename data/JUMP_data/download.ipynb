{
    "cells": [
        {
            "cell_type": "code",
            "execution_count": 1,
            "metadata": {},
            "outputs": [],
            "source": [
                "import os\n",
                "import sys\n",
                "import json\n",
                "import pathlib\n",
                "import requests\n",
                "import pandas as pd\n",
                "\n",
                "sys.path.append(\"../../\")\n",
                "from src.utils import split_meta_and_features"
            ]
        },
        {
            "cell_type": "code",
            "execution_count": 2,
            "metadata": {},
            "outputs": [
                {
                    "data": {
                        "text/html": [
                            "<div>\n",
                            "<style scoped>\n",
                            "    .dataframe tbody tr th:only-of-type {\n",
                            "        vertical-align: middle;\n",
                            "    }\n",
                            "\n",
                            "    .dataframe tbody tr th {\n",
                            "        vertical-align: top;\n",
                            "    }\n",
                            "\n",
                            "    .dataframe thead th {\n",
                            "        text-align: right;\n",
                            "    }\n",
                            "</style>\n",
                            "<table border=\"1\" class=\"dataframe\">\n",
                            "  <thead>\n",
                            "    <tr style=\"text-align: right;\">\n",
                            "      <th></th>\n",
                            "      <th>Assay_Plate_Barcode</th>\n",
                            "      <th>Plate_Map_Name</th>\n",
                            "    </tr>\n",
                            "  </thead>\n",
                            "  <tbody>\n",
                            "    <tr>\n",
                            "      <th>0</th>\n",
                            "      <td>BR00117006</td>\n",
                            "      <td>JUMP-Target-1_orf_platemap</td>\n",
                            "    </tr>\n",
                            "    <tr>\n",
                            "      <th>1</th>\n",
                            "      <td>BR00118049</td>\n",
                            "      <td>JUMP-Target-1_orf_platemap</td>\n",
                            "    </tr>\n",
                            "    <tr>\n",
                            "      <th>2</th>\n",
                            "      <td>BR00118050</td>\n",
                            "      <td>JUMP-Target-1_orf_platemap</td>\n",
                            "    </tr>\n",
                            "    <tr>\n",
                            "      <th>3</th>\n",
                            "      <td>BR00118039</td>\n",
                            "      <td>JUMP-Target-1_orf_platemap</td>\n",
                            "    </tr>\n",
                            "    <tr>\n",
                            "      <th>4</th>\n",
                            "      <td>BR00118040</td>\n",
                            "      <td>JUMP-Target-1_orf_platemap</td>\n",
                            "    </tr>\n",
                            "  </tbody>\n",
                            "</table>\n",
                            "</div>"
                        ],
                        "text/plain": [
                            "  Assay_Plate_Barcode              Plate_Map_Name\n",
                            "0          BR00117006  JUMP-Target-1_orf_platemap\n",
                            "1          BR00118049  JUMP-Target-1_orf_platemap\n",
                            "2          BR00118050  JUMP-Target-1_orf_platemap\n",
                            "3          BR00118039  JUMP-Target-1_orf_platemap\n",
                            "4          BR00118040  JUMP-Target-1_orf_platemap"
                        ]
                    },
                    "execution_count": 2,
                    "metadata": {},
                    "output_type": "execute_result"
                }
            ],
            "source": [
                "# read\n",
                "platemap_df = pd.read_csv(\"./barcode_platemap.csv\")\n",
                "platemap_df.head()"
            ]
        },
        {
            "cell_type": "code",
            "execution_count": 3,
            "metadata": {},
            "outputs": [],
            "source": [
                "# download normalized data\n",
                "for plate_id in platemap_df[\"Assay_Plate_Barcode\"]:\n",
                "    url = f\"https://cellpainting-gallery.s3.amazonaws.com/cpg0000-jump-pilot/source_4/workspace/profiles/2020_11_04_CPJUMP1/{plate_id}/{plate_id}_normalized_negcon.csv.gz\"\n",
                "\n",
                "    # request data\n",
                "    with requests.get(url) as response:\n",
                "        response.raise_for_status()\n",
                "        save_path = pathlib.Path(f\"./{plate_id}_normalized_negcon.csv.gz\").resolve()\n",
                "\n",
                "        # save content\n",
                "        with open(save_path, mode=\"wb\") as f:\n",
                "            for chunk in response.iter_content(chunk_size=8192):\n",
                "                f.write(chunk)"
            ]
        },
        {
            "cell_type": "code",
            "execution_count": 4,
            "metadata": {},
            "outputs": [],
            "source": [
                "# after downloading all dataset, concat into a single dataframe\n",
                "data_files = list(pathlib.Path.cwd().glob(\"*.csv.gz\"))\n",
                "\n",
                "# create main df by concatenating all file\n",
                "main_df = pd.concat([pd.read_csv(file) for file in data_files])\n",
                "\n",
                "# remove single_dfs\n",
                "[os.remove(file) for file in data_files]\n",
                "\n",
                "# save concatenated df into ./data/JUMP_data folders\n",
                "main_df.to_csv(\n",
                "    \"JUMP_all_plates_normalized_negcon.csv.gz\", index=False, compression=\"gzip\"\n",
                ")"
            ]
        },
        {
            "cell_type": "code",
            "execution_count": 5,
            "metadata": {},
            "outputs": [
                {
                    "name": "stdout",
                    "output_type": "stream",
                    "text": [
                        "NUmber of plates 51\n",
                        "Number of meta features 13\n",
                        "Number of features 5792\n"
                    ]
                }
            ],
            "source": [
                "# saving feature space\n",
                "jump_meta, jump_feat = split_meta_and_features(main_df, metadata_tag=True)\n",
                "\n",
                "# saving info of feature space\n",
                "jump_feature_space = {\n",
                "    \"name\": \"JUMP\",\n",
                "    \"n_plates\": len(main_df[\"Metadata_Plate\"].unique()),\n",
                "    \"n_meta_features\": len(jump_meta),\n",
                "    \"n_features\": len(jump_feat),\n",
                "    \"meta_features\": jump_meta,\n",
                "    \"features\": jump_feat,\n",
                "}\n",
                "\n",
                "# save json file\n",
                "with open(\"jump_feature_space.json\", mode=\"w\") as f:\n",
                "    json.dump(jump_feature_space, f)\n",
                "\n",
                "# display\n",
                "print(\"NUmber of plates\", len(main_df[\"Metadata_Plate\"].unique()))\n",
                "print(\"Number of meta features\", len(jump_meta))\n",
                "print(\"Number of features\", len(jump_feat))"
            ]
        }
    ],
    "metadata": {
        "kernelspec": {
            "display_name": "metadata-search",
            "language": "python",
            "name": "python3"
        },
        "language_info": {
            "codemirror_mode": {
                "name": "ipython",
                "version": 3
            },
            "file_extension": ".py",
            "mimetype": "text/x-python",
            "name": "python",
            "nbconvert_exporter": "python",
            "pygments_lexer": "ipython3",
            "version": "3.12.2"
        }
    },
    "nbformat": 4,
    "nbformat_minor": 2
}
