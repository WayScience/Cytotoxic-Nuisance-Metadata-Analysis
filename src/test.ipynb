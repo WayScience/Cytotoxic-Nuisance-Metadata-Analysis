{
    "cells": [
        {
            "cell_type": "code",
            "execution_count": 23,
            "metadata": {},
            "outputs": [],
            "source": [
                "from typing import Optional, Tuple\n",
                "import pandas as pd\n",
                "from pycytominer.cyto_utils import infer_cp_features"
            ]
        },
        {
            "cell_type": "code",
            "execution_count": 18,
            "metadata": {},
            "outputs": [
                {
                    "name": "stderr",
                    "output_type": "stream",
                    "text": [
                        "/tmp/ipykernel_66876/1570091106.py:1: DtypeWarning: Columns (6,21,31) have mixed types. Specify dtype option on import or set low_memory=False.\n",
                        "  df = pd.read_csv(\"../results/1.data_splits/training_data.csv.gz\")\n"
                    ]
                }
            ],
            "source": [
                "df = pd.read_csv(\"../results/1.data_splits/training_data.csv.gz\")"
            ]
        },
        {
            "cell_type": "code",
            "execution_count": 24,
            "metadata": {},
            "outputs": [],
            "source": [
                "def split_features(\n",
                "    profile: pd.DataFrame,\n",
                "    compartments=[\"Nuclei\", \"Cells\", \"Cytoplasm\"],\n",
                "    metadata_tag: Optional[bool] = False,\n",
                ") -> Tuple[list[str], list[str]]:\n",
                "    \"\"\"Splits metadata and feature column names\n",
                "\n",
                "    Parameters\n",
                "    ----------\n",
                "    profile : pd.DataFrame\n",
                "        image-based profile\n",
                "    compartments : list, optional\n",
                "        compartments used to generated image-based profiles, by default [\"Nuclei\", \"Cells\", \"Cytoplasm\"]\n",
                "    metadata_tag : Optional[bool], optional\n",
                "        indicating if the profiles have metadata columns tagged with 'Metadata_', by default False\n",
                "\n",
                "    Returns\n",
                "    -------\n",
                "    tuple[list[str], list[str]]\n",
                "        Tuple containing metadata and feature column names\n",
                "    \"\"\"\n",
                "\n",
                "    # identify features names\n",
                "    features_cols = infer_cp_features(df, compartments=[\"Nuclei\", \"Cells\", \"Cytoplasm\"])\n",
                "\n",
                "    # iteratively search metadata features and retain order if the Metadata tag is not added\n",
                "    if metadata_tag is False:\n",
                "        meta_cols = [\n",
                "            colname for colname in df.columns.tolist() if colname not in features_cols\n",
                "        ]\n",
                "    else:\n",
                "        meta_cols = infer_cp_features(df, metadata=True)\n",
                "\n",
                "    return (meta_cols, features_cols)"
            ]
        },
        {
            "cell_type": "code",
            "execution_count": null,
            "metadata": {},
            "outputs": [],
            "source": []
        }
    ],
    "metadata": {
        "kernelspec": {
            "display_name": "cell-injury",
            "language": "python",
            "name": "python3"
        },
        "language_info": {
            "codemirror_mode": {
                "name": "ipython",
                "version": 3
            },
            "file_extension": ".py",
            "mimetype": "text/x-python",
            "name": "python",
            "nbconvert_exporter": "python",
            "pygments_lexer": "ipython3",
            "version": "3.11.8"
        }
    },
    "nbformat": 4,
    "nbformat_minor": 2
}
