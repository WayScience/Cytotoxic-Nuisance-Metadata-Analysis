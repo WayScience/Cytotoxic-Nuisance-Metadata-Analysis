{
    "cells": [
        {
            "cell_type": "code",
            "execution_count": 4,
            "metadata": {},
            "outputs": [],
            "source": [
                "import sys\n",
                "import pathlib\n",
                "import pandas as pd\n",
                "\n",
                "sys.path.append(\"../\")"
            ]
        },
        {
            "cell_type": "code",
            "execution_count": 6,
            "metadata": {},
            "outputs": [],
            "source": [
                "df = pd.read_csv(\n",
                "    pathlib.Path(\"../results/2.modeling/all_f1_scores.csv.gz\").resolve(strict=True)\n",
                ")"
            ]
        },
        {
            "cell_type": "code",
            "execution_count": 9,
            "metadata": {},
            "outputs": [
                {
                    "data": {
                        "text/plain": [
                            "array(['Control', 'Cytoskeletal', 'Hsp90', 'Kinase', 'Genotoxin',\n",
                            "       'Miscellaneous', 'Redox', 'HDAC', 'mTOR', 'Proteasome', 'Saponin',\n",
                            "       'Mitochondria', 'Ferroptosis', 'Tannin', 'Nonspecific reactive',\n",
                            "       'weighted'], dtype=object)"
                        ]
                    },
                    "execution_count": 9,
                    "metadata": {},
                    "output_type": "execute_result"
                }
            ],
            "source": [
                "df[\"injury_type\"].unique()"
            ]
        },
        {
            "cell_type": "code",
            "execution_count": 10,
            "metadata": {},
            "outputs": [
                {
                    "name": "stdout",
                    "output_type": "stream",
                    "text": [
                        "F1 scores for each class: [0.75       0.85714286 0.8       ]\n",
                        "Weighted F1 score: 0.7971428571428572\n"
                    ]
                }
            ],
            "source": [
                "from sklearn.metrics import f1_score\n",
                "import numpy as np\n",
                "\n",
                "# Assuming you have true labels and predicted labels for a multi-class problem\n",
                "true_labels = np.array([0, 1, 2, 1, 0, 2, 1, 0, 2, 0])  # Example true labels\n",
                "predicted_labels = np.array([0, 1, 2, 1, 1, 2, 1, 0, 0, 0])  # Example predicted labels\n",
                "\n",
                "# Calculate the F1 score for each class\n",
                "f1_scores = f1_score(true_labels, predicted_labels, average=None)\n",
                "\n",
                "# Assuming you have the number of examples for each class\n",
                "num_examples_per_class = np.array([4, 3, 3])  # Number of examples for each class\n",
                "\n",
                "# Calculate the weighted F1 score\n",
                "weighted_f1_score = np.sum(f1_scores * num_examples_per_class) / np.sum(\n",
                "    num_examples_per_class\n",
                ")\n",
                "\n",
                "print(\"F1 scores for each class:\", f1_scores)\n",
                "print(\"Weighted F1 score:\", weighted_f1_score)"
            ]
        },
        {
            "cell_type": "code",
            "execution_count": null,
            "metadata": {},
            "outputs": [],
            "source": []
        }
    ],
    "metadata": {
        "kernelspec": {
            "display_name": "cell-injury",
            "language": "python",
            "name": "python3"
        },
        "language_info": {
            "codemirror_mode": {
                "name": "ipython",
                "version": 3
            },
            "file_extension": ".py",
            "mimetype": "text/x-python",
            "name": "python",
            "nbconvert_exporter": "python",
            "pygments_lexer": "ipython3",
            "version": "3.11.8"
        }
    },
    "nbformat": 4,
    "nbformat_minor": 2
}
